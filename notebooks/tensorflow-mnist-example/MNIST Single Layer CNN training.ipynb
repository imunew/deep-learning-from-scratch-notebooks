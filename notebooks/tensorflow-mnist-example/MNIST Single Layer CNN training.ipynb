{
 "cells": [
  {
   "cell_type": "markdown",
   "metadata": {},
   "source": [
    "# MNIST Sigle Layer CNN training Example"
   ]
  },
  {
   "cell_type": "markdown",
   "metadata": {},
   "source": [
    "Import modules."
   ]
  },
  {
   "cell_type": "code",
   "execution_count": 1,
   "metadata": {
    "collapsed": true
   },
   "outputs": [],
   "source": [
    "import tensorflow as tf\n",
    "import numpy as np\n",
    "import matplotlib.pyplot as plt\n",
    "from tensorflow.examples.tutorials.mnist import input_data"
   ]
  },
  {
   "cell_type": "markdown",
   "metadata": {},
   "source": [
    "Prepare the MNIST dataset."
   ]
  },
  {
   "cell_type": "code",
   "execution_count": 2,
   "metadata": {
    "collapsed": false
   },
   "outputs": [
    {
     "name": "stdout",
     "output_type": "stream",
     "text": [
      "Extracting /tmp/data/train-images-idx3-ubyte.gz\n",
      "Extracting /tmp/data/train-labels-idx1-ubyte.gz\n",
      "Extracting /tmp/data/t10k-images-idx3-ubyte.gz\n",
      "Extracting /tmp/data/t10k-labels-idx1-ubyte.gz\n"
     ]
    }
   ],
   "source": [
    "mnist = input_data.read_data_sets(\"/tmp/data/\", one_hot=True)"
   ]
  },
  {
   "cell_type": "markdown",
   "metadata": {},
   "source": [
    "Define a convolutional filter and pooling layer."
   ]
  },
  {
   "cell_type": "code",
   "execution_count": 3,
   "metadata": {
    "collapsed": true
   },
   "outputs": [],
   "source": [
    "num_filters = 16\n",
    "\n",
    "x = tf.placeholder(tf.float32, [None, 784])\n",
    "x_image = tf.reshape(x, [-1,28,28,1])\n",
    "\n",
    "W_conv = tf.Variable(tf.truncated_normal([5,5,1,num_filters],\n",
    "                                         stddev=0.1))\n",
    "h_conv = tf.nn.conv2d(x_image, W_conv,\n",
    "                      strides=[1,1,1,1], padding='SAME')\n",
    "h_pool = tf.nn.max_pool(h_conv, ksize=[1,2,2,1],\n",
    "                        strides=[1,2,2,1], padding='SAME')"
   ]
  },
  {
   "cell_type": "markdown",
   "metadata": {},
   "source": [
    "Define a fully-connected layer and a softmax function."
   ]
  },
  {
   "cell_type": "code",
   "execution_count": 4,
   "metadata": {
    "collapsed": true
   },
   "outputs": [],
   "source": [
    "h_pool_flat = tf.reshape(h_pool, [-1, 14*14*num_filters])\n",
    "\n",
    "num_units1 = 14*14*num_filters\n",
    "num_units2 = 1024\n",
    "\n",
    "w1 = tf.Variable(tf.truncated_normal([num_units1, num_units2]))\n",
    "b1 = tf.Variable(tf.zeros([num_units2]))\n",
    "hidden1 = tf.nn.relu(tf.matmul(h_pool_flat, w1) + b1)\n",
    "\n",
    "w0 = tf.Variable(tf.zeros([num_units2, 10]))\n",
    "b0 = tf.Variable(tf.zeros([10]))\n",
    "p = tf.nn.softmax(tf.matmul(hidden1, w0) + b0)"
   ]
  },
  {
   "cell_type": "markdown",
   "metadata": {},
   "source": [
    "Define a loss funtion, training algorithm and accuracy."
   ]
  },
  {
   "cell_type": "code",
   "execution_count": 5,
   "metadata": {
    "collapsed": true
   },
   "outputs": [],
   "source": [
    "t = tf.placeholder(tf.float32, [None, 10])\n",
    "loss = -tf.reduce_sum(t * tf.log(p))\n",
    "train_step = tf.train.AdamOptimizer(0.0005).minimize(loss)\n",
    "correct_prediction = tf.equal(tf.argmax(p, 1), tf.argmax(t, 1))\n",
    "accuracy = tf.reduce_mean(tf.cast(correct_prediction, tf.float32))"
   ]
  },
  {
   "cell_type": "markdown",
   "metadata": {},
   "source": [
    "Create a session and initialize Variables. Note that parameters added to the collection will be accessible after resoring the model."
   ]
  },
  {
   "cell_type": "code",
   "execution_count": 6,
   "metadata": {
    "collapsed": true
   },
   "outputs": [],
   "source": [
    "tf.add_to_collection('input_image', x)\n",
    "tf.add_to_collection('prediction', p)\n",
    "tf.add_to_collection('filters', h_conv)\n",
    "\n",
    "sess = tf.InteractiveSession()\n",
    "sess.run(tf.initialize_all_variables())\n",
    "saver = tf.train.Saver()"
   ]
  },
  {
   "cell_type": "markdown",
   "metadata": {},
   "source": [
    "Iterate the optimization using the stochastic gradient decent for 4,000 times. It finally achieves 98% accuracy for the test set."
   ]
  },
  {
   "cell_type": "code",
   "execution_count": 7,
   "metadata": {
    "collapsed": false,
    "scrolled": true
   },
   "outputs": [
    {
     "name": "stdout",
     "output_type": "stream",
     "text": [
      "Step: 100, Loss: 2550.094238, Accuracy: 0.923100\n",
      "Step: 200, Loss: 1897.238281, Accuracy: 0.944600\n",
      "Step: 300, Loss: 1486.104614, Accuracy: 0.957800\n",
      "Step: 400, Loss: 1406.608643, Accuracy: 0.956400\n",
      "Step: 500, Loss: 1234.350220, Accuracy: 0.959500\n",
      "Step: 600, Loss: 972.784058, Accuracy: 0.970500\n",
      "Step: 700, Loss: 1022.735962, Accuracy: 0.967900\n",
      "Step: 800, Loss: 877.653687, Accuracy: 0.972600\n",
      "Step: 900, Loss: 939.265625, Accuracy: 0.969500\n",
      "Step: 1000, Loss: 789.847290, Accuracy: 0.976300\n",
      "Step: 1100, Loss: 861.150818, Accuracy: 0.973600\n",
      "Step: 1200, Loss: 712.963989, Accuracy: 0.978800\n",
      "Step: 1300, Loss: 707.614136, Accuracy: 0.977900\n",
      "Step: 1400, Loss: 704.807739, Accuracy: 0.977300\n",
      "Step: 1500, Loss: 732.984741, Accuracy: 0.977000\n",
      "Step: 1600, Loss: 802.560303, Accuracy: 0.974400\n",
      "Step: 1700, Loss: 649.523315, Accuracy: 0.979000\n",
      "Step: 1800, Loss: 714.464233, Accuracy: 0.977900\n",
      "Step: 1900, Loss: 698.512085, Accuracy: 0.979600\n",
      "Step: 2000, Loss: 663.291382, Accuracy: 0.980700\n",
      "Step: 2100, Loss: 676.310974, Accuracy: 0.980300\n",
      "Step: 2200, Loss: 750.641296, Accuracy: 0.975800\n",
      "Step: 2300, Loss: 662.868958, Accuracy: 0.979300\n",
      "Step: 2400, Loss: 694.309448, Accuracy: 0.978600\n",
      "Step: 2500, Loss: 730.641418, Accuracy: 0.977400\n",
      "Step: 2600, Loss: 624.334595, Accuracy: 0.981300\n",
      "Step: 2700, Loss: 749.683777, Accuracy: 0.977900\n",
      "Step: 2800, Loss: 637.507568, Accuracy: 0.981600\n",
      "Step: 2900, Loss: 656.371216, Accuracy: 0.980600\n",
      "Step: 3000, Loss: 703.357727, Accuracy: 0.980100\n",
      "Step: 3100, Loss: 683.252502, Accuracy: 0.981000\n",
      "Step: 3200, Loss: 753.001404, Accuracy: 0.979900\n",
      "Step: 3300, Loss: 769.796265, Accuracy: 0.979500\n",
      "Step: 3400, Loss: 677.699585, Accuracy: 0.982800\n",
      "Step: 3500, Loss: 683.469788, Accuracy: 0.981000\n",
      "Step: 3600, Loss: 725.246094, Accuracy: 0.981400\n",
      "Step: 3700, Loss: 832.451416, Accuracy: 0.978600\n",
      "Step: 3800, Loss: 797.985352, Accuracy: 0.978900\n",
      "Step: 3900, Loss: 731.377197, Accuracy: 0.979900\n",
      "Step: 4000, Loss: 773.297424, Accuracy: 0.980400\n"
     ]
    }
   ],
   "source": [
    "i = 0\n",
    "for _ in range(4000):\n",
    "    i += 1\n",
    "    batch_xs, batch_ts = mnist.train.next_batch(100)\n",
    "    sess.run(train_step, feed_dict={x: batch_xs, t: batch_ts})\n",
    "    if i % 100 == 0:\n",
    "        loss_val, acc_val = sess.run([loss, accuracy],\n",
    "            feed_dict={x:mnist.test.images, t:mnist.test.labels})\n",
    "        print ('Step: %d, Loss: %f, Accuracy: %f'\n",
    "               % (i, loss_val, acc_val))"
   ]
  },
  {
   "cell_type": "markdown",
   "metadata": {},
   "source": [
    "Export the trained model and check the saved files."
   ]
  },
  {
   "cell_type": "code",
   "execution_count": 8,
   "metadata": {
    "collapsed": false
   },
   "outputs": [
    {
     "data": {
      "text/plain": [
       "'single_cnn_export'"
      ]
     },
     "execution_count": 8,
     "metadata": {},
     "output_type": "execute_result"
    }
   ],
   "source": [
    "saver.save(sess, 'single_cnn_export')"
   ]
  },
  {
   "cell_type": "code",
   "execution_count": 9,
   "metadata": {
    "collapsed": false
   },
   "outputs": [
    {
     "name": "stdout",
     "output_type": "stream",
     "text": [
      "-rw-r--r-- 1 root root 38676961 Dec 20 02:48 single_cnn_export\r\n",
      "-rw-r--r-- 1 root root    43632 Dec 20 02:48 single_cnn_export.meta\r\n"
     ]
    }
   ],
   "source": [
    "!ls -l single_cnn_export*"
   ]
  }
 ],
 "metadata": {
  "kernelspec": {
   "display_name": "Python 2",
   "language": "python",
   "name": "python2"
  },
  "language_info": {
   "codemirror_mode": {
    "name": "ipython",
    "version": 2
   },
   "file_extension": ".py",
   "mimetype": "text/x-python",
   "name": "python",
   "nbconvert_exporter": "python",
   "pygments_lexer": "ipython2",
   "version": "2.7.5"
  }
 },
 "nbformat": 4,
 "nbformat_minor": 1
}
